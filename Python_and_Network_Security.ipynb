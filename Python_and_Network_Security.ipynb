{
  "nbformat": 4,
  "nbformat_minor": 0,
  "metadata": {
    "colab": {
      "name": "Python and Network Security.ipynb",
      "provenance": []
    },
    "kernelspec": {
      "name": "python3",
      "display_name": "Python 3"
    },
    "language_info": {
      "name": "python"
    }
  },
  "cells": [
    {
      "cell_type": "code",
      "metadata": {
        "colab": {
          "base_uri": "https://localhost:8080/"
        },
        "id": "n-CfOSHGhWgf",
        "outputId": "35d875eb-4628-4eb3-b377-b1324bc8cf9b"
      },
      "source": [
        "import hashlib\n",
        "print(hashlib.algorithms_available)"
      ],
      "execution_count": 1,
      "outputs": [
        {
          "output_type": "stream",
          "text": [
            "{'sha3_256', 'sha3_384', 'sha256', 'shake_128', 'sha224', 'sha3_224', 'shake_256', 'sha512', 'sha384', 'blake2s', 'sha3_512', 'md5', 'blake2b', 'sha1'}\n"
          ],
          "name": "stdout"
        }
      ]
    },
    {
      "cell_type": "code",
      "metadata": {
        "colab": {
          "base_uri": "https://localhost:8080/"
        },
        "id": "e8k0NSfpkRLp",
        "outputId": "dae439f8-2eb0-4a3f-f32e-169ff5270cf4"
      },
      "source": [
        "# Python program to generate md5 of String data type.\n",
        "\n",
        "text = input(\"Enter something:\")\n",
        "#Encoding the input string using encode()\n",
        "hash_object = hashlib.md5(text.encode())\n",
        "#Passing the encoded string to MD5 hash function\n",
        "md5_hash = hash_object.hexdigest()\n",
        "md5_hash_1 = hash_object.digest()\n",
        "print(\"\\nMD5 of entered value is :\", md5_hash)\n",
        "print(\"The byte equivalent of entered value is :\", md5_hash_1)"
      ],
      "execution_count": 17,
      "outputs": [
        {
          "output_type": "stream",
          "text": [
            "Enter something:fghfgh\n",
            "\n",
            "MD5 of entered value is : 633bd287609b5b5854509b614ef5bee0\n",
            "The byte equivalent of entered value is : b'c;\\xd2\\x87`\\x9b[XTP\\x9baN\\xf5\\xbe\\xe0'\n"
          ],
          "name": "stdout"
        }
      ]
    }
  ]
}